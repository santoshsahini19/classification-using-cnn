{
 "cells": [
  {
   "cell_type": "code",
   "execution_count": 1,
   "metadata": {},
   "outputs": [],
   "source": [
    "#Importing the libraries\n",
    "import tensorflow as tf\n",
    "from keras.preprocessing.image import ImageDataGenerator\n",
    "#Generate batches of tensor image data with real-time data augmentation"
   ]
  },
  {
   "cell_type": "code",
   "execution_count": 2,
   "metadata": {},
   "outputs": [
    {
     "data": {
      "text/plain": [
       "'2.4.1'"
      ]
     },
     "execution_count": 2,
     "metadata": {},
     "output_type": "execute_result"
    }
   ],
   "source": [
    "tf.__version__"
   ]
  },
  {
   "cell_type": "markdown",
   "metadata": {},
   "source": [
    "DATA PREPROCESSING"
   ]
  },
  {
   "cell_type": "code",
   "execution_count": 23,
   "metadata": {},
   "outputs": [
    {
     "name": "stdout",
     "output_type": "stream",
     "text": [
      "Found 8000 images belonging to 2 classes.\n"
     ]
    }
   ],
   "source": [
    "#PREPROCESSING THE TRAININGSET\n",
    "#Performing transformations only on training set and not on test because to avoid over fitting (information leakage)\n",
    "#Performing image augmentation in order to avoid over learning \n",
    "\n",
    "train_datagen = ImageDataGenerator(\n",
    "        rescale=1./255,\n",
    "        shear_range=0.2,\n",
    "        zoom_range=0.2,\n",
    "        horizontal_flip=True)\n",
    "\n",
    "training_set = train_datagen.flow_from_directory(\n",
    "        'dataset/training_set',\n",
    "        target_size=(64, 64),\n",
    "        batch_size=32,\n",
    "        class_mode='binary')"
   ]
  },
  {
   "cell_type": "code",
   "execution_count": 24,
   "metadata": {},
   "outputs": [
    {
     "name": "stdout",
     "output_type": "stream",
     "text": [
      "Found 2000 images belonging to 2 classes.\n"
     ]
    }
   ],
   "source": [
    "#PREPROCESSING THE TESTSET\n",
    "\n",
    "test_datagen = ImageDataGenerator(rescale=1./255)\n",
    "test_set = test_datagen.flow_from_directory(\n",
    "        'dataset/test_set',\n",
    "        target_size=(64, 64),\n",
    "        batch_size=32,\n",
    "        class_mode='binary')"
   ]
  },
  {
   "cell_type": "markdown",
   "metadata": {},
   "source": [
    "BUILDING THE CNN"
   ]
  },
  {
   "cell_type": "code",
   "execution_count": 34,
   "metadata": {},
   "outputs": [],
   "source": [
    "#Initialising the CNN\n",
    "cnn = tf.keras.models.Sequential()"
   ]
  },
  {
   "cell_type": "code",
   "execution_count": 35,
   "metadata": {},
   "outputs": [],
   "source": [
    "# STEP-1 CONVOLUTION\n",
    "#Conv2D is like Dense in ANN which fully connected layer\n",
    "#filters is the number of output filters in the convolution i.e, feature detectors\n",
    "\n",
    "cnn.add(tf.keras.layers.Conv2D( filters=32, kernel_size = 3, activation = 'relu', input_shape = [64,64,3]))"
   ]
  },
  {
   "cell_type": "code",
   "execution_count": 36,
   "metadata": {},
   "outputs": [],
   "source": [
    "# STEP-2 POOLING \n",
    "#pool_size is the frame which uses the layer on feature map to get the max value (2x2 in the lecture)\n",
    "\n",
    "cnn.add(tf.keras.layers.MaxPool2D(pool_size = 2, strides = 2))"
   ]
  },
  {
   "cell_type": "code",
   "execution_count": 37,
   "metadata": {},
   "outputs": [],
   "source": [
    "#Adding a second convolutional layer\n",
    "# Remove inpput layer because this is created after input layer so input layer will be present already\n",
    "\n",
    "cnn.add(tf.keras.layers.Conv2D( filters=32, kernel_size = 3, activation = 'relu'))\n",
    "\n",
    "cnn.add(tf.keras.layers.MaxPool2D( pool_size = 2, strides = 2))"
   ]
  },
  {
   "cell_type": "code",
   "execution_count": 38,
   "metadata": {},
   "outputs": [],
   "source": [
    "# STEP-3 FLATTENING\n",
    "\n",
    "cnn.add(tf.keras.layers.Flatten())"
   ]
  },
  {
   "cell_type": "code",
   "execution_count": 39,
   "metadata": {},
   "outputs": [],
   "source": [
    "# STEP-4 FULL CONNECTION\n",
    "\n",
    "cnn.add(tf.keras.layers.Dense(units = 128, activation = 'relu'))"
   ]
  },
  {
   "cell_type": "code",
   "execution_count": 40,
   "metadata": {},
   "outputs": [],
   "source": [
    "# STEP-5 OUTPUT LAYER\n",
    "\n",
    "cnn.add(tf.keras.layers.Dense(units = 1, activation = 'sigmoid'))"
   ]
  },
  {
   "cell_type": "markdown",
   "metadata": {},
   "source": [
    "TRAINING THE CNN"
   ]
  },
  {
   "cell_type": "code",
   "execution_count": 41,
   "metadata": {},
   "outputs": [],
   "source": [
    "# COMPILING THE CNN\n",
    "\n",
    "cnn.compile( optimizer = 'adam', loss = 'binary_crossentropy', metrics = ['accuracy'])"
   ]
  },
  {
   "cell_type": "code",
   "execution_count": 42,
   "metadata": {},
   "outputs": [
    {
     "name": "stdout",
     "output_type": "stream",
     "text": [
      "Epoch 1/25\n",
      "250/250 [==============================] - 38s 152ms/step - loss: 0.6949 - accuracy: 0.5470 - val_loss: 0.6550 - val_accuracy: 0.6085\n",
      "Epoch 2/25\n",
      "250/250 [==============================] - 41s 163ms/step - loss: 0.5995 - accuracy: 0.6781 - val_loss: 0.6404 - val_accuracy: 0.6460\n",
      "Epoch 3/25\n",
      "250/250 [==============================] - 45s 181ms/step - loss: 0.5532 - accuracy: 0.7098 - val_loss: 0.5286 - val_accuracy: 0.7530\n",
      "Epoch 4/25\n",
      "250/250 [==============================] - 46s 185ms/step - loss: 0.5423 - accuracy: 0.7289 - val_loss: 0.5025 - val_accuracy: 0.7655\n",
      "Epoch 5/25\n",
      "250/250 [==============================] - 51s 206ms/step - loss: 0.5109 - accuracy: 0.7427 - val_loss: 0.6002 - val_accuracy: 0.6875\n",
      "Epoch 6/25\n",
      "250/250 [==============================] - 146s 587ms/step - loss: 0.4968 - accuracy: 0.7563 - val_loss: 0.5017 - val_accuracy: 0.7755\n",
      "Epoch 7/25\n",
      "250/250 [==============================] - 98s 390ms/step - loss: 0.4636 - accuracy: 0.7837 - val_loss: 0.5115 - val_accuracy: 0.7555\n",
      "Epoch 8/25\n",
      "250/250 [==============================] - 57s 226ms/step - loss: 0.4480 - accuracy: 0.7843 - val_loss: 0.4655 - val_accuracy: 0.7845\n",
      "Epoch 9/25\n",
      "250/250 [==============================] - 42s 167ms/step - loss: 0.4456 - accuracy: 0.7867 - val_loss: 0.4754 - val_accuracy: 0.7830\n",
      "Epoch 10/25\n",
      "250/250 [==============================] - 45s 178ms/step - loss: 0.4226 - accuracy: 0.8040 - val_loss: 0.4624 - val_accuracy: 0.7875\n",
      "Epoch 11/25\n",
      "250/250 [==============================] - 41s 165ms/step - loss: 0.4040 - accuracy: 0.8082 - val_loss: 0.4676 - val_accuracy: 0.7945\n",
      "Epoch 12/25\n",
      "250/250 [==============================] - 47s 189ms/step - loss: 0.4074 - accuracy: 0.8102 - val_loss: 0.4591 - val_accuracy: 0.7970\n",
      "Epoch 13/25\n",
      "250/250 [==============================] - 44s 175ms/step - loss: 0.3801 - accuracy: 0.8221 - val_loss: 0.4692 - val_accuracy: 0.7930\n",
      "Epoch 14/25\n",
      "250/250 [==============================] - 50s 200ms/step - loss: 0.3709 - accuracy: 0.8279 - val_loss: 0.4616 - val_accuracy: 0.8050\n",
      "Epoch 15/25\n",
      "250/250 [==============================] - 48s 191ms/step - loss: 0.3468 - accuracy: 0.8440 - val_loss: 0.4486 - val_accuracy: 0.8115\n",
      "Epoch 16/25\n",
      "250/250 [==============================] - 48s 191ms/step - loss: 0.3279 - accuracy: 0.8581 - val_loss: 0.4666 - val_accuracy: 0.7960\n",
      "Epoch 17/25\n",
      "250/250 [==============================] - 51s 205ms/step - loss: 0.3086 - accuracy: 0.8703 - val_loss: 0.4978 - val_accuracy: 0.7900\n",
      "Epoch 18/25\n",
      "250/250 [==============================] - 58s 231ms/step - loss: 0.3242 - accuracy: 0.8638 - val_loss: 0.4934 - val_accuracy: 0.7910\n",
      "Epoch 19/25\n",
      "250/250 [==============================] - 45s 181ms/step - loss: 0.3091 - accuracy: 0.8621 - val_loss: 0.5554 - val_accuracy: 0.7850\n",
      "Epoch 20/25\n",
      "250/250 [==============================] - 51s 204ms/step - loss: 0.2825 - accuracy: 0.8793 - val_loss: 0.4968 - val_accuracy: 0.8030\n",
      "Epoch 21/25\n",
      "250/250 [==============================] - 48s 191ms/step - loss: 0.2681 - accuracy: 0.8827 - val_loss: 0.5597 - val_accuracy: 0.7870\n",
      "Epoch 22/25\n",
      "250/250 [==============================] - 56s 223ms/step - loss: 0.2644 - accuracy: 0.8897 - val_loss: 0.5176 - val_accuracy: 0.8035\n",
      "Epoch 23/25\n",
      "250/250 [==============================] - 52s 208ms/step - loss: 0.2445 - accuracy: 0.8980 - val_loss: 0.5250 - val_accuracy: 0.8155\n",
      "Epoch 24/25\n",
      "250/250 [==============================] - 42s 167ms/step - loss: 0.2301 - accuracy: 0.9035 - val_loss: 0.5506 - val_accuracy: 0.8080\n",
      "Epoch 25/25\n",
      "250/250 [==============================] - 80s 322ms/step - loss: 0.2273 - accuracy: 0.9059 - val_loss: 0.5475 - val_accuracy: 0.8075\n"
     ]
    },
    {
     "data": {
      "text/plain": [
       "<tensorflow.python.keras.callbacks.History at 0x270abc6fc10>"
      ]
     },
     "execution_count": 42,
     "metadata": {},
     "output_type": "execute_result"
    }
   ],
   "source": [
    "# Training the CNN on the training set and evaluating it on the test set\n",
    "\n",
    "cnn.fit(x = training_set, validation_data = test_set, epochs = 25)"
   ]
  },
  {
   "cell_type": "markdown",
   "metadata": {},
   "source": [
    "MAKING A SINGLE PREDICTION"
   ]
  },
  {
   "cell_type": "code",
   "execution_count": 48,
   "metadata": {},
   "outputs": [],
   "source": [
    "import numpy as np\n",
    "from keras.preprocessing import image\n",
    "\n",
    "test_image = image.load_img('dataset/single_prediction/cat_or_dog_1.jpg', target_size = (64,64))\n",
    "#img_to_array converts a PIL image to a numoy array\n",
    "\n",
    "test_image = image.img_to_array(test_image)\n",
    "\n",
    "#should add dimension of the batch\n",
    "test_image = np.expand_dims(test_image, axis = 0)\n",
    "\n",
    "result = cnn.predict(test_image)\n",
    "train_generator.class_indices\n",
    "\n",
    "#Accessing the batch and accessing single element in the class\n",
    "if result[0][0] == 0:\n",
    "    prediction = 'cat'\n",
    "else:\n",
    "    prediction = 'dog'"
   ]
  },
  {
   "cell_type": "code",
   "execution_count": 49,
   "metadata": {},
   "outputs": [
    {
     "name": "stdout",
     "output_type": "stream",
     "text": [
      "dog\n"
     ]
    }
   ],
   "source": [
    "print(prediction)"
   ]
  },
  {
   "cell_type": "code",
   "execution_count": null,
   "metadata": {},
   "outputs": [],
   "source": []
  }
 ],
 "metadata": {
  "kernelspec": {
   "display_name": "Python 3",
   "language": "python",
   "name": "python3"
  },
  "language_info": {
   "codemirror_mode": {
    "name": "ipython",
    "version": 3
   },
   "file_extension": ".py",
   "mimetype": "text/x-python",
   "name": "python",
   "nbconvert_exporter": "python",
   "pygments_lexer": "ipython3",
   "version": "3.8.5"
  }
 },
 "nbformat": 4,
 "nbformat_minor": 4
}
